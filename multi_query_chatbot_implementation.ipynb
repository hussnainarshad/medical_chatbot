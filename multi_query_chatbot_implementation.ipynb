{
 "cells": [
  {
   "cell_type": "code",
   "execution_count": 1,
   "metadata": {},
   "outputs": [
    {
     "name": "stderr",
     "output_type": "stream",
     "text": [
      "c:\\Users\\Husnain\\Downloads\\project_athenaai\\venv\\Lib\\site-packages\\pinecone\\data\\index.py:1: TqdmWarning: IProgress not found. Please update jupyter and ipywidgets. See https://ipywidgets.readthedocs.io/en/stable/user_install.html\n",
      "  from tqdm.autonotebook import tqdm\n"
     ]
    }
   ],
   "source": [
    "import os\n",
    "from dotenv import load_dotenv\n",
    "from openai import OpenAI\n",
    "from langchain.chains import RetrievalQA\n",
    "from langchain.memory import ConversationBufferWindowMemory\n",
    "from langchain_openai import ChatOpenAI, OpenAIEmbeddings\n",
    "from langchain.prompts import PromptTemplate\n",
    "from langchain_pinecone import Pinecone\n",
    "from langchain.retrievers import MultiQueryRetriever\n"
   ]
  },
  {
   "cell_type": "code",
   "execution_count": 2,
   "metadata": {},
   "outputs": [
    {
     "data": {
      "text/plain": [
       "True"
      ]
     },
     "execution_count": 2,
     "metadata": {},
     "output_type": "execute_result"
    }
   ],
   "source": [
    "# Load environment variables from .env file\n",
    "load_dotenv()\n"
   ]
  },
  {
   "cell_type": "code",
   "execution_count": 3,
   "metadata": {},
   "outputs": [],
   "source": [
    "\n",
    "def initialize_components():\n",
    "    # Retrieve API keys from environment variables\n",
    "    pinecone_api_key = os.getenv(\"PINECONE_API_KEY\")\n",
    "    openai_api_key = os.getenv(\"OPENAI_API_KEY\")\n",
    "\n",
    "    # Verify that API keys are loaded\n",
    "    if not pinecone_api_key or not openai_api_key:\n",
    "        raise ValueError(\"API keys for Pinecone or OpenAI are missing.\")\n",
    "\n",
    "    # Initialize LangChain components\n",
    "    embeddings = OpenAIEmbeddings()\n",
    "    llm = ChatOpenAI(model_name=\"gpt-4o\", temperature=0.5)\n",
    "\n",
    "    # Initialize Pinecone and set up vector store and use MultiQueryRetriever\n",
    "    vectorstore = Pinecone(index_name=\"chatbot\", embedding=embeddings)\n",
    "    retriever = MultiQueryRetriever.from_llm(retriever=vectorstore.as_retriever(), llm=llm)\n",
    "\n",
    "    # Define the prompt template\n",
    "    template = '''\n",
    "    As a Medical AI assistant, you provide accurate and concise answers based on the given context.\n",
    "    Follow these guidelines: If the information is not available within the context, state that you don’t know.\n",
    "    Answer to the best of your ability, citing the provided documents as sources.\n",
    "    Only use examples if explicitly requested, and avoid introducing examples outside the context.\n",
    "    Ensure responses are limited to three or four sentences for clarity.\n",
    "    Example:\n",
    "    Question: \"What is AIDS, and how does it relate to HIV?\"\n",
    "    Answer: \"AIDS stands for acquired immunodeficiency syndrome, which is a condition caused by the human immunodeficiency virus (HIV). \n",
    "    HIV attacks and destroys specific white blood cells essential for the immune system. \n",
    "    While people infected with HIV may not show symptoms or have only minor illnesses for years, they are not considered to have AIDS until the virus causes severe damage to the immune system.\"\n",
    "    Context:{context}\n",
    "    {history}\n",
    "    Question: {question}\n",
    "    Answer\n",
    "    '''\n",
    "\n",
    "    prompt = PromptTemplate(\n",
    "        input_variables=[\"history\", \"context\", \"question\"],\n",
    "        template=template\n",
    "    )\n",
    "\n",
    "    # Initialize memory and retrieval chain\n",
    "    memory = ConversationBufferWindowMemory(k=4, memory_key=\"history\", input_key=\"question\")\n",
    "\n",
    "    retrieval_chain = RetrievalQA.from_chain_type(\n",
    "        llm,\n",
    "        chain_type='stuff',\n",
    "        retriever=retriever,\n",
    "        chain_type_kwargs={\"prompt\": prompt, \"memory\": memory}\n",
    "    )\n",
    "\n",
    "    return retrieval_chain, memory"
   ]
  },
  {
   "cell_type": "code",
   "execution_count": 4,
   "metadata": {},
   "outputs": [],
   "source": [
    "def perform_query(retrieval_chain, query):\n",
    "    response = retrieval_chain.invoke(query)\n",
    "    print(f\"Query: {query}\\nResponse: {response}\\n\")\n"
   ]
  },
  {
   "cell_type": "code",
   "execution_count": 7,
   "metadata": {},
   "outputs": [],
   "source": [
    "def main():\n",
    "    # Initialize components\n",
    "    retrieval_chain, memory = initialize_components()\n",
    "\n",
    "    # Example queries\n",
    "    perform_query(retrieval_chain, \"What AIDS?\")\n",
    "    perform_query(retrieval_chain, \"What is the capital of France?\")\n",
    "    perform_query(retrieval_chain, \"What are different types of cancer?\")\n",
    "    perform_query(retrieval_chain, \"Mammography?\")\n",
    "    perform_query(retrieval_chain, \"Psychological impact of breast cancer diagnosis?\")\n",
    "\n",
    "    # Debugging memory state\n",
    "    print(\"Memory state:\", memory.load_memory_variables({}))"
   ]
  },
  {
   "cell_type": "code",
   "execution_count": 8,
   "metadata": {},
   "outputs": [
    {
     "name": "stderr",
     "output_type": "stream",
     "text": [
      "C:\\Users\\Husnain\\AppData\\Local\\Temp\\ipykernel_15868\\2927092371.py:15: LangChainDeprecationWarning: The class `Pinecone` was deprecated in LangChain 0.0.3 and will be removed in 0.3.0. Use PineconeVectorStore instead.\n",
      "  vectorstore = Pinecone(index_name=\"chatbot\", embedding=embeddings)\n"
     ]
    },
    {
     "name": "stdout",
     "output_type": "stream",
     "text": [
      "Query: What AIDS?\n",
      "Response: {'query': 'What AIDS?', 'result': \"AIDS stands for acquired immunodeficiency syndrome, a pattern of devastating infections caused by the human immunodeficiency virus (HIV), which attacks and destroys certain white blood cells that are essential to the body's immune system. When HIV infects a cell, it combines with that cell's genetic material and may lie inactive for years. Most people infected with HIV are still healthy and can live for years with no symptoms or only minor illnesses. They are infected with HIV, but they do not have AIDS until the virus causes severe damage to the immune system.\"}\n",
      "\n",
      "Query: What is the capital of France?\n",
      "Response: {'query': 'What is the capital of France?', 'result': 'I don’t know. The provided context does not contain information about the capital of France.'}\n",
      "\n",
      "Query: What are different types of cancer?\n",
      "Response: {'query': 'What are different types of cancer?', 'result': 'The main categories of cancer include carcinoma, leukemia, sarcoma, lymphoma and myeloma, and central nervous system cancers. Carcinoma begins in the skin or tissues that line or cover internal organs. Leukemia starts in blood-forming tissue such as the bone marrow, causing large numbers of abnormal blood cells to be produced and enter the blood. Sarcoma begins in bone, cartilage, fat, muscle, blood vessels, or other connective or supportive tissue. Lymphoma and myeloma start in the cells of the immune system, while central nervous system cancers begin in the tissues of the brain and spinal cord.'}\n",
      "\n",
      "Query: Mammography?\n",
      "Response: {'query': 'Mammography?', 'result': 'Mammography is a screening or diagnostic tool used to detect breast masses or microcalcifications in women by using low-energy X-rays. During the procedure, each breast is placed between two plates and compressed to obtain a clear image. Screening mammography involves taking two X-rays of each breast in asymptomatic women to detect changes at a preclinical stage. Diagnostic mammography includes additional views for a more detailed report to evaluate individuals with abnormal clinical findings.'}\n",
      "\n",
      "Query: Psychological impact of breast cancer diagnosis?\n",
      "Response: {'query': 'Psychological impact of breast cancer diagnosis?', 'result': 'A breast cancer diagnosis can have a significant psychological impact, often eliciting reactions such as shock, blame, fear, anxiety, panic, anger, resentment, depression, denial, sadness, uncertainty, loneliness, fatigue, and vulnerability. Expressive coping and actively processing emotions can benefit patients by leading to fewer medical appointments due to cancer-related morbidities and a higher quality of life. However, the expression of fear and anxiety is associated with lower quality of life and higher depression. Additionally, 42% of early-stage breast cancer patients experience anxiety, depression, or adjustment disorders. \\n\\nSources: [Context provided]'}\n",
      "\n",
      "Memory state: {'history': 'Human: What is the capital of France?\\nAI: I don’t know. The provided context does not contain information about the capital of France.\\nHuman: What are different types of cancer?\\nAI: The main categories of cancer include carcinoma, leukemia, sarcoma, lymphoma and myeloma, and central nervous system cancers. Carcinoma begins in the skin or tissues that line or cover internal organs. Leukemia starts in blood-forming tissue such as the bone marrow, causing large numbers of abnormal blood cells to be produced and enter the blood. Sarcoma begins in bone, cartilage, fat, muscle, blood vessels, or other connective or supportive tissue. Lymphoma and myeloma start in the cells of the immune system, while central nervous system cancers begin in the tissues of the brain and spinal cord.\\nHuman: Mammography?\\nAI: Mammography is a screening or diagnostic tool used to detect breast masses or microcalcifications in women by using low-energy X-rays. During the procedure, each breast is placed between two plates and compressed to obtain a clear image. Screening mammography involves taking two X-rays of each breast in asymptomatic women to detect changes at a preclinical stage. Diagnostic mammography includes additional views for a more detailed report to evaluate individuals with abnormal clinical findings.\\nHuman: Psychological impact of breast cancer diagnosis?\\nAI: A breast cancer diagnosis can have a significant psychological impact, often eliciting reactions such as shock, blame, fear, anxiety, panic, anger, resentment, depression, denial, sadness, uncertainty, loneliness, fatigue, and vulnerability. Expressive coping and actively processing emotions can benefit patients by leading to fewer medical appointments due to cancer-related morbidities and a higher quality of life. However, the expression of fear and anxiety is associated with lower quality of life and higher depression. Additionally, 42% of early-stage breast cancer patients experience anxiety, depression, or adjustment disorders. \\n\\nSources: [Context provided]'}\n"
     ]
    }
   ],
   "source": [
    "if __name__ == \"__main__\":\n",
    "    main()"
   ]
  }
 ],
 "metadata": {
  "kernelspec": {
   "display_name": "venv",
   "language": "python",
   "name": "python3"
  },
  "language_info": {
   "codemirror_mode": {
    "name": "ipython",
    "version": 3
   },
   "file_extension": ".py",
   "mimetype": "text/x-python",
   "name": "python",
   "nbconvert_exporter": "python",
   "pygments_lexer": "ipython3",
   "version": "3.11.4"
  }
 },
 "nbformat": 4,
 "nbformat_minor": 2
}
