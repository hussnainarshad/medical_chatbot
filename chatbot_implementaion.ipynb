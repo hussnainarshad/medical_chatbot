{
 "cells": [
  {
   "cell_type": "code",
   "execution_count": 38,
   "metadata": {},
   "outputs": [],
   "source": [
    "import os\n",
    "from dotenv import load_dotenv\n",
    "from openai import OpenAI\n",
    "from langchain.chains import RetrievalQA\n",
    "from langchain.memory import ConversationBufferWindowMemory\n",
    "from langchain_openai import ChatOpenAI, OpenAIEmbeddings\n",
    "from langchain.prompts import PromptTemplate\n",
    "from langchain_pinecone import Pinecone\n"
   ]
  },
  {
   "cell_type": "code",
   "execution_count": 39,
   "metadata": {},
   "outputs": [
    {
     "data": {
      "text/plain": [
       "True"
      ]
     },
     "execution_count": 39,
     "metadata": {},
     "output_type": "execute_result"
    }
   ],
   "source": [
    "# Load environment variables from .env file\n",
    "load_dotenv()\n"
   ]
  },
  {
   "cell_type": "code",
   "execution_count": 40,
   "metadata": {},
   "outputs": [],
   "source": [
    "\n",
    "def initialize_components():\n",
    "    # Retrieve API keys from environment variables\n",
    "    pinecone_api_key = os.getenv(\"PINECONE_API_KEY\")\n",
    "    openai_api_key = os.getenv(\"OPENAI_API_KEY\")\n",
    "\n",
    "    # Verify that API keys are loaded\n",
    "    if not pinecone_api_key or not openai_api_key:\n",
    "        raise ValueError(\"API keys for Pinecone or OpenAI are missing.\")\n",
    "\n",
    "    # Initialize LangChain components\n",
    "    embeddings = OpenAIEmbeddings()\n",
    "    llm = ChatOpenAI(model_name=\"gpt-4o\", temperature=0.5)\n",
    "\n",
    "    # Initialize Pinecone and set up vector store\n",
    "    vectorstore = Pinecone(index_name=\"chatbot\", embedding=embeddings)\n",
    "    retriever = vectorstore.as_retriever()\n",
    "\n",
    "    # Define the prompt template\n",
    "    template = '''\n",
    "    As a Medical AI assistant, you provide accurate and concise answers based on the given context.\n",
    "    Follow these guidelines: If the information is not available within the context, state that you don’t know.\n",
    "    Answer to the best of your ability, citing the provided documents as sources.\n",
    "    Only use examples if explicitly requested, and avoid introducing examples outside the context.\n",
    "    Ensure responses are limited to three or four sentences for clarity.\n",
    "    Example:\n",
    "    Question: \"What is AIDS, and how does it relate to HIV?\"\n",
    "    Answer: \"AIDS stands for acquired immunodeficiency syndrome, which is a condition caused by the human immunodeficiency virus (HIV). \n",
    "    HIV attacks and destroys specific white blood cells essential for the immune system. \n",
    "    While people infected with HIV may not show symptoms or have only minor illnesses for years, they are not considered to have AIDS until the virus causes severe damage to the immune system.\"\n",
    "    Context:{context}\n",
    "    {history}\n",
    "    Question: {question}\n",
    "    Answer\n",
    "    '''\n",
    "\n",
    "    prompt = PromptTemplate(\n",
    "        input_variables=[\"history\", \"context\", \"question\"],\n",
    "        template=template\n",
    "    )\n",
    "\n",
    "    # Initialize memory and retrieval chain\n",
    "    memory = ConversationBufferWindowMemory(k=3, memory_key=\"history\", input_key=\"question\")\n",
    "\n",
    "    retrieval_chain = RetrievalQA.from_chain_type(\n",
    "        llm,\n",
    "        chain_type='stuff',\n",
    "        retriever=retriever,\n",
    "        chain_type_kwargs={\"prompt\": prompt, \"memory\": memory}\n",
    "    )\n",
    "\n",
    "    return retrieval_chain, memory"
   ]
  },
  {
   "cell_type": "code",
   "execution_count": 41,
   "metadata": {},
   "outputs": [],
   "source": [
    "def perform_query(retrieval_chain, query):\n",
    "    response = retrieval_chain.invoke(query)\n",
    "    print(f\"Query: {query}\\nResponse: {response}\\n\")\n"
   ]
  },
  {
   "cell_type": "code",
   "execution_count": 42,
   "metadata": {},
   "outputs": [],
   "source": [
    "def main():\n",
    "    # Initialize components\n",
    "    retrieval_chain, memory = initialize_components()\n",
    "\n",
    "    # Example queries\n",
    "    perform_query(retrieval_chain, \"What AIDS?\")\n",
    "    perform_query(retrieval_chain, \"What is the capital of France?\")\n",
    "    perform_query(retrieval_chain, \"What are different types of cancer?\")\n",
    "    perform_query(retrieval_chain, \"Mammography?\")\n",
    "    perform_query(retrieval_chain, \"Psychological impact of breast cancer diagnosis?\")\n",
    "\n",
    "    # Debugging memory state\n",
    "    print(\"Memory state:\", memory.load_memory_variables({}))"
   ]
  },
  {
   "cell_type": "code",
   "execution_count": 43,
   "metadata": {},
   "outputs": [
    {
     "name": "stdout",
     "output_type": "stream",
     "text": [
      "Query: What AIDS?\n",
      "Response: {'query': 'What AIDS?', 'result': \"AIDS stands for acquired immunodeficiency syndrome, a pattern of devastating infections caused by the human immunodeficiency virus (HIV), which attacks and destroys certain white blood cells that are essential to the body's immune system. Most people infected with HIV can live for years with no symptoms or only minor illnesses, but they do not have AIDS until the virus causes severe damage to the immune system. AIDS is a fatal disease, although treatments can extend life, and prevention of transmission remains the only method of control.\"}\n",
      "\n",
      "Query: What is the capital of France?\n",
      "Response: {'query': 'What is the capital of France?', 'result': 'I don’t know. The provided context does not contain information about the capital of France.'}\n",
      "\n",
      "Query: What are different types of cancer?\n",
      "Response: {'query': 'What are different types of cancer?', 'result': 'The context lists several types of cancer, including:\\n\\n1. **Leukaemia** - Cancer that starts in blood-forming tissue such as the bone marrow and causes large numbers of abnormal blood cells to be produced and enter the blood.\\n2. **Sarcoma** - Cancer that begins in bone, cartilage, fat, muscle, blood vessels, or other connective or supportive tissue.\\n3. **Lymphoma and myeloma** - Cancers that begin in the cells of the immune system.\\n4. **Central nervous system cancers** - Cancers that begin in the tissues of the brain and spinal cord.\\n\\nAdditionally, it mentions specific cancers like breast cancer (ductal and lobular), colorectal, lung, melanoma, corpus uteri, lymphoma, ovary, cervix, non-Hodgkin’s, pancreas, stomach, and kidney cancers.'}\n",
      "\n",
      "Query: Mammography?\n",
      "Response: {'query': 'Mammography?', 'result': 'Mammography is a screening or diagnostic tool used to detect breast masses or microcalcifications in women by using low-energy X-rays. During a mammography, each breast is placed between two plates and compressed to obtain a clear image. The primary role of mammography is to detect changes at a preclinical stage in asymptomatic women. Radiologists analyze the mammographic images and classify findings into categories for further examination if necessary.'}\n",
      "\n",
      "Query: Psychological impact of breast cancer diagnosis?\n",
      "Response: {'query': 'Psychological impact of breast cancer diagnosis?', 'result': 'A breast cancer diagnosis can have a significant psychological impact on women, leading to a range of emotional responses including shock, blame, fear, anxiety, panic, anger, resentment, depression, denial, sadness, uncertainty, loneliness, fatigue, and vulnerability. Expressive coping and actively processing emotions can benefit patients by reducing cancer-related morbidities and improving quality of life. However, expressing fear and anxiety is associated with a lower quality of life and higher depression. The New Zealand Cancer Foundation provides methods to help individuals manage the stress associated with a breast cancer diagnosis. \\n\\nSources:\\n- Psychological impact of a breast cancer diagnosis (Context page 24)\\n- Lieberman and Goldstein (2006)\\n- Stanton et al (2002)\\n- http://www.cancernz.org.nz/assets/files/Emotions&Cancer-LINKS.pdf'}\n",
      "\n",
      "Memory state: {'history': 'Human: What are different types of cancer?\\nAI: The context lists several types of cancer, including:\\n\\n1. **Leukaemia** - Cancer that starts in blood-forming tissue such as the bone marrow and causes large numbers of abnormal blood cells to be produced and enter the blood.\\n2. **Sarcoma** - Cancer that begins in bone, cartilage, fat, muscle, blood vessels, or other connective or supportive tissue.\\n3. **Lymphoma and myeloma** - Cancers that begin in the cells of the immune system.\\n4. **Central nervous system cancers** - Cancers that begin in the tissues of the brain and spinal cord.\\n\\nAdditionally, it mentions specific cancers like breast cancer (ductal and lobular), colorectal, lung, melanoma, corpus uteri, lymphoma, ovary, cervix, non-Hodgkin’s, pancreas, stomach, and kidney cancers.\\nHuman: Mammography?\\nAI: Mammography is a screening or diagnostic tool used to detect breast masses or microcalcifications in women by using low-energy X-rays. During a mammography, each breast is placed between two plates and compressed to obtain a clear image. The primary role of mammography is to detect changes at a preclinical stage in asymptomatic women. Radiologists analyze the mammographic images and classify findings into categories for further examination if necessary.\\nHuman: Psychological impact of breast cancer diagnosis?\\nAI: A breast cancer diagnosis can have a significant psychological impact on women, leading to a range of emotional responses including shock, blame, fear, anxiety, panic, anger, resentment, depression, denial, sadness, uncertainty, loneliness, fatigue, and vulnerability. Expressive coping and actively processing emotions can benefit patients by reducing cancer-related morbidities and improving quality of life. However, expressing fear and anxiety is associated with a lower quality of life and higher depression. The New Zealand Cancer Foundation provides methods to help individuals manage the stress associated with a breast cancer diagnosis. \\n\\nSources:\\n- Psychological impact of a breast cancer diagnosis (Context page 24)\\n- Lieberman and Goldstein (2006)\\n- Stanton et al (2002)\\n- http://www.cancernz.org.nz/assets/files/Emotions&Cancer-LINKS.pdf'}\n"
     ]
    }
   ],
   "source": [
    "if __name__ == \"__main__\":\n",
    "    main()"
   ]
  },
  {
   "cell_type": "code",
   "execution_count": null,
   "metadata": {},
   "outputs": [],
   "source": []
  },
  {
   "cell_type": "code",
   "execution_count": null,
   "metadata": {},
   "outputs": [],
   "source": []
  }
 ],
 "metadata": {
  "kernelspec": {
   "display_name": "venv",
   "language": "python",
   "name": "python3"
  },
  "language_info": {
   "codemirror_mode": {
    "name": "ipython",
    "version": 3
   },
   "file_extension": ".py",
   "mimetype": "text/x-python",
   "name": "python",
   "nbconvert_exporter": "python",
   "pygments_lexer": "ipython3",
   "version": "3.11.4"
  }
 },
 "nbformat": 4,
 "nbformat_minor": 2
}
