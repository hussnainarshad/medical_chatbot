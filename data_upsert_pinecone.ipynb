{
 "cells": [
  {
   "cell_type": "code",
   "execution_count": 1,
   "metadata": {},
   "outputs": [
    {
     "name": "stderr",
     "output_type": "stream",
     "text": [
      "c:\\Users\\Husnain\\Downloads\\project_athenaai\\newenv\\Lib\\site-packages\\pinecone\\data\\index.py:1: TqdmWarning: IProgress not found. Please update jupyter and ipywidgets. See https://ipywidgets.readthedocs.io/en/stable/user_install.html\n",
      "  from tqdm.autonotebook import tqdm\n"
     ]
    }
   ],
   "source": [
    "from langchain.text_splitter import RecursiveCharacterTextSplitter\n",
    "from langchain_openai import OpenAIEmbeddings\n",
    "from langchain_community.vectorstores import Pinecone as PineconeLang\n",
    "from pinecone import Pinecone, ServerlessSpec\n",
    "from langchain.text_splitter import RecursiveCharacterTextSplitter\n",
    "import os\n",
    "from langchain.document_loaders import PyPDFLoader\n",
    "from dotenv import load_dotenv"
   ]
  },
  {
   "cell_type": "code",
   "execution_count": 2,
   "metadata": {},
   "outputs": [
    {
     "data": {
      "text/plain": [
       "True"
      ]
     },
     "execution_count": 2,
     "metadata": {},
     "output_type": "execute_result"
    }
   ],
   "source": [
    "load_dotenv()"
   ]
  },
  {
   "cell_type": "code",
   "execution_count": 3,
   "metadata": {},
   "outputs": [],
   "source": [
    "def create_vector_index(index_name, dimensions, metric, cloud_provider, region):\n",
    "    \"\"\"\n",
    "    Create a vector index in Pinecone.\n",
    "\n",
    "    Args:\n",
    "    index_name (str): Name of the index.\n",
    "    dimensions (int): Dimensionality of the vectors for the index.\n",
    "    metric (str): Similarity metric (e.g., 'cosine', 'euclidean').\n",
    "    cloud_provider (str): Cloud service provider (e.g., 'aws').\n",
    "    region (str): Cloud region (e.g., 'us-east-1').\n",
    "\n",
    "    Returns:\n",
    "    None\n",
    "    \"\"\"\n",
    "    pc = Pinecone(api_key=os.getenv(\"PINECONE_API_KEY\"))\n",
    "    \n",
    "    # Create the index with the specified parameters\n",
    "    pc.create_index(\n",
    "        name=index_name,\n",
    "        dimension=dimensions,\n",
    "        metric=metric,\n",
    "        spec=ServerlessSpec(\n",
    "            cloud=cloud_provider,\n",
    "            region=region\n",
    "        )\n",
    "    )\n",
    "\n",
    "index_name = \"chatbot\"  # Give the index a meaningful name\n",
    "vector_dimensions = 1536  # Replace with your model's vector dimensions\n",
    "similarity_metric = \"cosine\"  # Metric used for vector similarity\n",
    "cloud_provider = \"aws\"  # Cloud service provider\n",
    "region = \"us-east-1\"  # Cloud region\n",
    "\n",
    "# Create the vector index\n",
    "create_vector_index(index_name, vector_dimensions, similarity_metric, cloud_provider, region)\n"
   ]
  },
  {
   "cell_type": "code",
   "execution_count": 4,
   "metadata": {},
   "outputs": [],
   "source": [
    "\n",
    "def load_pdf_document(file_path):\n",
    "    \"\"\"\n",
    "    Loads a PDF document using PyPDFLoader.\n",
    "\n",
    "    Args:\n",
    "    file_path (str): Path to the PDF file.\n",
    "\n",
    "    Returns:\n",
    "    list: A list of LangChain Document objects if the file is a valid PDF.\n",
    "    None: If the file format is not PDF or an error occurs during loading.\n",
    "    \"\"\"\n",
    "    _, file_extension = os.path.splitext(file_path)\n",
    "\n",
    "    if file_extension.lower() != '.pdf':\n",
    "        print(f'Unsupported file format: {file_extension}')\n",
    "        return None\n",
    "\n",
    "    print(f'Loading PDF file: {file_path}')\n",
    "    loader = PyPDFLoader(file_path)\n",
    "    try:\n",
    "        document_data = loader.load()\n",
    "        return document_data\n",
    "    except Exception as e:\n",
    "        print(f\"Error loading PDF: {e}\")\n",
    "        return None"
   ]
  },
  {
   "cell_type": "code",
   "execution_count": 5,
   "metadata": {},
   "outputs": [],
   "source": [
    "\n",
    "def process_document(documents, chunk_size=1000, chunk_overlap=200):\n",
    "    \"\"\"\n",
    "    Processes a list of documents by splitting them into chunks.\n",
    "\n",
    "    Args:\n",
    "    documents (list): List of LangChain Document objects.\n",
    "    chunk_size (int): Size of each document chunk (default 1000).\n",
    "    chunk_overlap (int): Overlap between chunks (default 200).\n",
    "\n",
    "    Returns:\n",
    "    tuple: A tuple containing the document contents and their metadata.\n",
    "    \"\"\"\n",
    "    # Split documents into chunks\n",
    "    text_splitter = RecursiveCharacterTextSplitter(chunk_size=chunk_size, chunk_overlap=chunk_overlap)\n",
    "    chunks = text_splitter.split_documents(documents)\n",
    "\n",
    "    # Extract contents and metadata\n",
    "    document_contents = [chunk.page_content for chunk in chunks]\n",
    "    document_metadata = [chunk.metadata for chunk in chunks]\n",
    "\n",
    "    return document_contents, document_metadata\n"
   ]
  },
  {
   "cell_type": "code",
   "execution_count": 6,
   "metadata": {},
   "outputs": [],
   "source": [
    "\n",
    "def uploaddoc(file_path):\n",
    "    \"\"\"\n",
    "    Uploads and processes a PDF document, then indexes it using PineconeLang.\n",
    "\n",
    "    Args:\n",
    "    file_path (str): Path to the PDF file.\n",
    "\n",
    "    Returns:\n",
    "    None\n",
    "    \"\"\"\n",
    "    # Load the PDF document\n",
    "    documents = load_pdf_document(file_path)\n",
    "    if not documents:\n",
    "        print(\"No documents to process.\")\n",
    "        return\n",
    "\n",
    "    # Log the number of pages\n",
    "    print(f'You have {len(documents)} pages in your data')\n",
    "\n",
    "    # Initialize OpenAI embeddings\n",
    "    openai_api_key = os.getenv(\"OPENAI_API_KEY\")  # Replace with actual key\n",
    "    embedding_model = OpenAIEmbeddings(openai_api_key=openai_api_key)\n",
    "\n",
    "    # Process the document into chunks\n",
    "    document_contents, document_metadata = process_document(documents)\n",
    "\n",
    "    # Log metadata and confirm processing\n",
    "    print(f\"Metadata for the document chunks: {document_metadata}\")\n",
    "    print(f\"{file_path} processing is done\")\n",
    "\n",
    "    # Upload the document contents and metadata to PineconeLang\n",
    "    try:\n",
    "        PineconeLang.from_texts(\n",
    "            texts=document_contents,\n",
    "            metadatas=document_metadata,\n",
    "            embedding=embedding_model,\n",
    "            index_name=\"chatbot\"  # Replace with your actual index name\n",
    "        )\n",
    "        print(\"Document successfully indexed.\")\n",
    "    except Exception as e:\n",
    "        print(f\"Error during indexing: {e}\")"
   ]
  },
  {
   "cell_type": "code",
   "execution_count": 7,
   "metadata": {},
   "outputs": [],
   "source": [
    "def process_pdfs_in_directory(directory_path):\n",
    "    \"\"\"\n",
    "    Processes all PDF files in a given directory by calling `uploaddoc` on each file.\n",
    "\n",
    "    Args:\n",
    "    directory_path (str): Path to the directory containing PDF files.\n",
    "\n",
    "    Returns:\n",
    "    None\n",
    "    \"\"\"\n",
    "    # Check if the directory exists\n",
    "    if not os.path.isdir(directory_path):\n",
    "        print(f\"The directory {directory_path} does not exist.\")\n",
    "        return\n",
    "\n",
    "    # Iterate over each file in the directory\n",
    "    for file_name in os.listdir(directory_path):\n",
    "        # Check if the file is a PDF\n",
    "        if file_name.lower().endswith('.pdf'):\n",
    "            file_path = os.path.join(directory_path, file_name)\n",
    "            print(f\"Processing file: {file_path}\")\n",
    "\n",
    "            # Call the function to upload and process the document\n",
    "            try:\n",
    "                uploaddoc(file_path)\n",
    "            except Exception as e:\n",
    "                print(f\"Error processing file {file_path}: {e}\")\n"
   ]
  },
  {
   "cell_type": "code",
   "execution_count": 9,
   "metadata": {},
   "outputs": [
    {
     "name": "stdout",
     "output_type": "stream",
     "text": [
      "Processing file: data\\jc306-un-staff-rev1_en.pdf\n",
      "Loading PDF file: data\\jc306-un-staff-rev1_en.pdf\n",
      "You have 49 pages in your data\n",
      "Metadata for the document chunks: [{'source': 'data\\\\jc306-un-staff-rev1_en.pdf', 'page': 0}, {'source': 'data\\\\jc306-un-staff-rev1_en.pdf', 'page': 1}, {'source': 'data\\\\jc306-un-staff-rev1_en.pdf', 'page': 1}, {'source': 'data\\\\jc306-un-staff-rev1_en.pdf', 'page': 2}, {'source': 'data\\\\jc306-un-staff-rev1_en.pdf', 'page': 3}, {'source': 'data\\\\jc306-un-staff-rev1_en.pdf', 'page': 4}, {'source': 'data\\\\jc306-un-staff-rev1_en.pdf', 'page': 4}, {'source': 'data\\\\jc306-un-staff-rev1_en.pdf', 'page': 4}, {'source': 'data\\\\jc306-un-staff-rev1_en.pdf', 'page': 5}, {'source': 'data\\\\jc306-un-staff-rev1_en.pdf', 'page': 5}, {'source': 'data\\\\jc306-un-staff-rev1_en.pdf', 'page': 5}, {'source': 'data\\\\jc306-un-staff-rev1_en.pdf', 'page': 6}, {'source': 'data\\\\jc306-un-staff-rev1_en.pdf', 'page': 6}, {'source': 'data\\\\jc306-un-staff-rev1_en.pdf', 'page': 6}, {'source': 'data\\\\jc306-un-staff-rev1_en.pdf', 'page': 7}, {'source': 'data\\\\jc306-un-staff-rev1_en.pdf', 'page': 7}, {'source': 'data\\\\jc306-un-staff-rev1_en.pdf', 'page': 7}, {'source': 'data\\\\jc306-un-staff-rev1_en.pdf', 'page': 8}, {'source': 'data\\\\jc306-un-staff-rev1_en.pdf', 'page': 8}, {'source': 'data\\\\jc306-un-staff-rev1_en.pdf', 'page': 9}, {'source': 'data\\\\jc306-un-staff-rev1_en.pdf', 'page': 9}, {'source': 'data\\\\jc306-un-staff-rev1_en.pdf', 'page': 9}, {'source': 'data\\\\jc306-un-staff-rev1_en.pdf', 'page': 9}, {'source': 'data\\\\jc306-un-staff-rev1_en.pdf', 'page': 10}, {'source': 'data\\\\jc306-un-staff-rev1_en.pdf', 'page': 10}, {'source': 'data\\\\jc306-un-staff-rev1_en.pdf', 'page': 10}, {'source': 'data\\\\jc306-un-staff-rev1_en.pdf', 'page': 11}, {'source': 'data\\\\jc306-un-staff-rev1_en.pdf', 'page': 11}, {'source': 'data\\\\jc306-un-staff-rev1_en.pdf', 'page': 12}, {'source': 'data\\\\jc306-un-staff-rev1_en.pdf', 'page': 12}, {'source': 'data\\\\jc306-un-staff-rev1_en.pdf', 'page': 12}, {'source': 'data\\\\jc306-un-staff-rev1_en.pdf', 'page': 13}, {'source': 'data\\\\jc306-un-staff-rev1_en.pdf', 'page': 13}, {'source': 'data\\\\jc306-un-staff-rev1_en.pdf', 'page': 13}, {'source': 'data\\\\jc306-un-staff-rev1_en.pdf', 'page': 14}, {'source': 'data\\\\jc306-un-staff-rev1_en.pdf', 'page': 14}, {'source': 'data\\\\jc306-un-staff-rev1_en.pdf', 'page': 14}, {'source': 'data\\\\jc306-un-staff-rev1_en.pdf', 'page': 15}, {'source': 'data\\\\jc306-un-staff-rev1_en.pdf', 'page': 16}, {'source': 'data\\\\jc306-un-staff-rev1_en.pdf', 'page': 16}, {'source': 'data\\\\jc306-un-staff-rev1_en.pdf', 'page': 16}, {'source': 'data\\\\jc306-un-staff-rev1_en.pdf', 'page': 17}, {'source': 'data\\\\jc306-un-staff-rev1_en.pdf', 'page': 17}, {'source': 'data\\\\jc306-un-staff-rev1_en.pdf', 'page': 18}, {'source': 'data\\\\jc306-un-staff-rev1_en.pdf', 'page': 18}, {'source': 'data\\\\jc306-un-staff-rev1_en.pdf', 'page': 18}, {'source': 'data\\\\jc306-un-staff-rev1_en.pdf', 'page': 19}, {'source': 'data\\\\jc306-un-staff-rev1_en.pdf', 'page': 19}, {'source': 'data\\\\jc306-un-staff-rev1_en.pdf', 'page': 19}, {'source': 'data\\\\jc306-un-staff-rev1_en.pdf', 'page': 20}, {'source': 'data\\\\jc306-un-staff-rev1_en.pdf', 'page': 20}, {'source': 'data\\\\jc306-un-staff-rev1_en.pdf', 'page': 21}, {'source': 'data\\\\jc306-un-staff-rev1_en.pdf', 'page': 21}, {'source': 'data\\\\jc306-un-staff-rev1_en.pdf', 'page': 21}, {'source': 'data\\\\jc306-un-staff-rev1_en.pdf', 'page': 22}, {'source': 'data\\\\jc306-un-staff-rev1_en.pdf', 'page': 22}, {'source': 'data\\\\jc306-un-staff-rev1_en.pdf', 'page': 22}, {'source': 'data\\\\jc306-un-staff-rev1_en.pdf', 'page': 23}, {'source': 'data\\\\jc306-un-staff-rev1_en.pdf', 'page': 24}, {'source': 'data\\\\jc306-un-staff-rev1_en.pdf', 'page': 24}, {'source': 'data\\\\jc306-un-staff-rev1_en.pdf', 'page': 24}, {'source': 'data\\\\jc306-un-staff-rev1_en.pdf', 'page': 25}, {'source': 'data\\\\jc306-un-staff-rev1_en.pdf', 'page': 25}, {'source': 'data\\\\jc306-un-staff-rev1_en.pdf', 'page': 26}, {'source': 'data\\\\jc306-un-staff-rev1_en.pdf', 'page': 26}, {'source': 'data\\\\jc306-un-staff-rev1_en.pdf', 'page': 26}, {'source': 'data\\\\jc306-un-staff-rev1_en.pdf', 'page': 26}, {'source': 'data\\\\jc306-un-staff-rev1_en.pdf', 'page': 27}, {'source': 'data\\\\jc306-un-staff-rev1_en.pdf', 'page': 27}, {'source': 'data\\\\jc306-un-staff-rev1_en.pdf', 'page': 28}, {'source': 'data\\\\jc306-un-staff-rev1_en.pdf', 'page': 28}, {'source': 'data\\\\jc306-un-staff-rev1_en.pdf', 'page': 28}, {'source': 'data\\\\jc306-un-staff-rev1_en.pdf', 'page': 29}, {'source': 'data\\\\jc306-un-staff-rev1_en.pdf', 'page': 29}, {'source': 'data\\\\jc306-un-staff-rev1_en.pdf', 'page': 29}, {'source': 'data\\\\jc306-un-staff-rev1_en.pdf', 'page': 30}, {'source': 'data\\\\jc306-un-staff-rev1_en.pdf', 'page': 30}, {'source': 'data\\\\jc306-un-staff-rev1_en.pdf', 'page': 31}, {'source': 'data\\\\jc306-un-staff-rev1_en.pdf', 'page': 31}, {'source': 'data\\\\jc306-un-staff-rev1_en.pdf', 'page': 32}, {'source': 'data\\\\jc306-un-staff-rev1_en.pdf', 'page': 32}, {'source': 'data\\\\jc306-un-staff-rev1_en.pdf', 'page': 32}, {'source': 'data\\\\jc306-un-staff-rev1_en.pdf', 'page': 33}, {'source': 'data\\\\jc306-un-staff-rev1_en.pdf', 'page': 33}, {'source': 'data\\\\jc306-un-staff-rev1_en.pdf', 'page': 33}, {'source': 'data\\\\jc306-un-staff-rev1_en.pdf', 'page': 34}, {'source': 'data\\\\jc306-un-staff-rev1_en.pdf', 'page': 34}, {'source': 'data\\\\jc306-un-staff-rev1_en.pdf', 'page': 35}, {'source': 'data\\\\jc306-un-staff-rev1_en.pdf', 'page': 35}, {'source': 'data\\\\jc306-un-staff-rev1_en.pdf', 'page': 36}, {'source': 'data\\\\jc306-un-staff-rev1_en.pdf', 'page': 36}, {'source': 'data\\\\jc306-un-staff-rev1_en.pdf', 'page': 37}, {'source': 'data\\\\jc306-un-staff-rev1_en.pdf', 'page': 38}, {'source': 'data\\\\jc306-un-staff-rev1_en.pdf', 'page': 39}, {'source': 'data\\\\jc306-un-staff-rev1_en.pdf', 'page': 39}, {'source': 'data\\\\jc306-un-staff-rev1_en.pdf', 'page': 39}, {'source': 'data\\\\jc306-un-staff-rev1_en.pdf', 'page': 40}, {'source': 'data\\\\jc306-un-staff-rev1_en.pdf', 'page': 40}, {'source': 'data\\\\jc306-un-staff-rev1_en.pdf', 'page': 40}, {'source': 'data\\\\jc306-un-staff-rev1_en.pdf', 'page': 41}, {'source': 'data\\\\jc306-un-staff-rev1_en.pdf', 'page': 41}, {'source': 'data\\\\jc306-un-staff-rev1_en.pdf', 'page': 42}, {'source': 'data\\\\jc306-un-staff-rev1_en.pdf', 'page': 42}, {'source': 'data\\\\jc306-un-staff-rev1_en.pdf', 'page': 42}, {'source': 'data\\\\jc306-un-staff-rev1_en.pdf', 'page': 43}, {'source': 'data\\\\jc306-un-staff-rev1_en.pdf', 'page': 44}, {'source': 'data\\\\jc306-un-staff-rev1_en.pdf', 'page': 44}, {'source': 'data\\\\jc306-un-staff-rev1_en.pdf', 'page': 44}, {'source': 'data\\\\jc306-un-staff-rev1_en.pdf', 'page': 45}, {'source': 'data\\\\jc306-un-staff-rev1_en.pdf', 'page': 46}, {'source': 'data\\\\jc306-un-staff-rev1_en.pdf', 'page': 47}, {'source': 'data\\\\jc306-un-staff-rev1_en.pdf', 'page': 47}, {'source': 'data\\\\jc306-un-staff-rev1_en.pdf', 'page': 48}]\n",
      "data\\jc306-un-staff-rev1_en.pdf processing is done\n",
      "Document successfully indexed.\n",
      "Processing file: data\\Oncology.pdf\n",
      "Loading PDF file: data\\Oncology.pdf\n",
      "You have 149 pages in your data\n",
      "Metadata for the document chunks: [{'source': 'data\\\\Oncology.pdf', 'page': 0}, {'source': 'data\\\\Oncology.pdf', 'page': 1}, {'source': 'data\\\\Oncology.pdf', 'page': 1}, {'source': 'data\\\\Oncology.pdf', 'page': 2}, {'source': 'data\\\\Oncology.pdf', 'page': 2}, {'source': 'data\\\\Oncology.pdf', 'page': 3}, {'source': 'data\\\\Oncology.pdf', 'page': 3}, {'source': 'data\\\\Oncology.pdf', 'page': 3}, {'source': 'data\\\\Oncology.pdf', 'page': 3}, {'source': 'data\\\\Oncology.pdf', 'page': 3}, {'source': 'data\\\\Oncology.pdf', 'page': 3}, {'source': 'data\\\\Oncology.pdf', 'page': 3}, {'source': 'data\\\\Oncology.pdf', 'page': 4}, {'source': 'data\\\\Oncology.pdf', 'page': 4}, {'source': 'data\\\\Oncology.pdf', 'page': 4}, {'source': 'data\\\\Oncology.pdf', 'page': 4}, {'source': 'data\\\\Oncology.pdf', 'page': 4}, {'source': 'data\\\\Oncology.pdf', 'page': 4}, {'source': 'data\\\\Oncology.pdf', 'page': 5}, {'source': 'data\\\\Oncology.pdf', 'page': 5}, {'source': 'data\\\\Oncology.pdf', 'page': 5}, {'source': 'data\\\\Oncology.pdf', 'page': 6}, {'source': 'data\\\\Oncology.pdf', 'page': 6}, {'source': 'data\\\\Oncology.pdf', 'page': 7}, {'source': 'data\\\\Oncology.pdf', 'page': 7}, {'source': 'data\\\\Oncology.pdf', 'page': 8}, {'source': 'data\\\\Oncology.pdf', 'page': 8}, {'source': 'data\\\\Oncology.pdf', 'page': 9}, {'source': 'data\\\\Oncology.pdf', 'page': 10}, {'source': 'data\\\\Oncology.pdf', 'page': 10}, {'source': 'data\\\\Oncology.pdf', 'page': 10}, {'source': 'data\\\\Oncology.pdf', 'page': 11}, {'source': 'data\\\\Oncology.pdf', 'page': 11}, {'source': 'data\\\\Oncology.pdf', 'page': 12}, {'source': 'data\\\\Oncology.pdf', 'page': 12}, {'source': 'data\\\\Oncology.pdf', 'page': 13}, {'source': 'data\\\\Oncology.pdf', 'page': 13}, {'source': 'data\\\\Oncology.pdf', 'page': 13}, {'source': 'data\\\\Oncology.pdf', 'page': 14}, {'source': 'data\\\\Oncology.pdf', 'page': 14}, {'source': 'data\\\\Oncology.pdf', 'page': 15}, {'source': 'data\\\\Oncology.pdf', 'page': 15}, {'source': 'data\\\\Oncology.pdf', 'page': 15}, {'source': 'data\\\\Oncology.pdf', 'page': 16}, {'source': 'data\\\\Oncology.pdf', 'page': 16}, {'source': 'data\\\\Oncology.pdf', 'page': 17}, {'source': 'data\\\\Oncology.pdf', 'page': 17}, {'source': 'data\\\\Oncology.pdf', 'page': 18}, {'source': 'data\\\\Oncology.pdf', 'page': 18}, {'source': 'data\\\\Oncology.pdf', 'page': 18}, {'source': 'data\\\\Oncology.pdf', 'page': 19}, {'source': 'data\\\\Oncology.pdf', 'page': 20}, {'source': 'data\\\\Oncology.pdf', 'page': 20}, {'source': 'data\\\\Oncology.pdf', 'page': 21}, {'source': 'data\\\\Oncology.pdf', 'page': 21}, {'source': 'data\\\\Oncology.pdf', 'page': 22}, {'source': 'data\\\\Oncology.pdf', 'page': 22}, {'source': 'data\\\\Oncology.pdf', 'page': 22}, {'source': 'data\\\\Oncology.pdf', 'page': 23}, {'source': 'data\\\\Oncology.pdf', 'page': 23}, {'source': 'data\\\\Oncology.pdf', 'page': 24}, {'source': 'data\\\\Oncology.pdf', 'page': 24}, {'source': 'data\\\\Oncology.pdf', 'page': 25}, {'source': 'data\\\\Oncology.pdf', 'page': 25}, {'source': 'data\\\\Oncology.pdf', 'page': 26}, {'source': 'data\\\\Oncology.pdf', 'page': 26}, {'source': 'data\\\\Oncology.pdf', 'page': 26}, {'source': 'data\\\\Oncology.pdf', 'page': 27}, {'source': 'data\\\\Oncology.pdf', 'page': 27}, {'source': 'data\\\\Oncology.pdf', 'page': 27}, {'source': 'data\\\\Oncology.pdf', 'page': 28}, {'source': 'data\\\\Oncology.pdf', 'page': 28}, {'source': 'data\\\\Oncology.pdf', 'page': 29}, {'source': 'data\\\\Oncology.pdf', 'page': 29}, {'source': 'data\\\\Oncology.pdf', 'page': 29}, {'source': 'data\\\\Oncology.pdf', 'page': 30}, {'source': 'data\\\\Oncology.pdf', 'page': 30}, {'source': 'data\\\\Oncology.pdf', 'page': 30}, {'source': 'data\\\\Oncology.pdf', 'page': 31}, {'source': 'data\\\\Oncology.pdf', 'page': 31}, {'source': 'data\\\\Oncology.pdf', 'page': 31}, {'source': 'data\\\\Oncology.pdf', 'page': 32}, {'source': 'data\\\\Oncology.pdf', 'page': 32}, {'source': 'data\\\\Oncology.pdf', 'page': 33}, {'source': 'data\\\\Oncology.pdf', 'page': 33}, {'source': 'data\\\\Oncology.pdf', 'page': 34}, {'source': 'data\\\\Oncology.pdf', 'page': 34}, {'source': 'data\\\\Oncology.pdf', 'page': 35}, {'source': 'data\\\\Oncology.pdf', 'page': 35}, {'source': 'data\\\\Oncology.pdf', 'page': 36}, {'source': 'data\\\\Oncology.pdf', 'page': 36}, {'source': 'data\\\\Oncology.pdf', 'page': 37}, {'source': 'data\\\\Oncology.pdf', 'page': 37}, {'source': 'data\\\\Oncology.pdf', 'page': 37}, {'source': 'data\\\\Oncology.pdf', 'page': 38}, {'source': 'data\\\\Oncology.pdf', 'page': 38}, {'source': 'data\\\\Oncology.pdf', 'page': 38}, {'source': 'data\\\\Oncology.pdf', 'page': 39}, {'source': 'data\\\\Oncology.pdf', 'page': 39}, {'source': 'data\\\\Oncology.pdf', 'page': 40}, {'source': 'data\\\\Oncology.pdf', 'page': 41}, {'source': 'data\\\\Oncology.pdf', 'page': 42}, {'source': 'data\\\\Oncology.pdf', 'page': 42}, {'source': 'data\\\\Oncology.pdf', 'page': 43}, {'source': 'data\\\\Oncology.pdf', 'page': 44}, {'source': 'data\\\\Oncology.pdf', 'page': 44}, {'source': 'data\\\\Oncology.pdf', 'page': 45}, {'source': 'data\\\\Oncology.pdf', 'page': 45}, {'source': 'data\\\\Oncology.pdf', 'page': 45}, {'source': 'data\\\\Oncology.pdf', 'page': 46}, {'source': 'data\\\\Oncology.pdf', 'page': 46}, {'source': 'data\\\\Oncology.pdf', 'page': 46}, {'source': 'data\\\\Oncology.pdf', 'page': 47}, {'source': 'data\\\\Oncology.pdf', 'page': 47}, {'source': 'data\\\\Oncology.pdf', 'page': 48}, {'source': 'data\\\\Oncology.pdf', 'page': 48}, {'source': 'data\\\\Oncology.pdf', 'page': 49}, {'source': 'data\\\\Oncology.pdf', 'page': 49}, {'source': 'data\\\\Oncology.pdf', 'page': 50}, {'source': 'data\\\\Oncology.pdf', 'page': 50}, {'source': 'data\\\\Oncology.pdf', 'page': 51}, {'source': 'data\\\\Oncology.pdf', 'page': 51}, {'source': 'data\\\\Oncology.pdf', 'page': 52}, {'source': 'data\\\\Oncology.pdf', 'page': 52}, {'source': 'data\\\\Oncology.pdf', 'page': 52}, {'source': 'data\\\\Oncology.pdf', 'page': 53}, {'source': 'data\\\\Oncology.pdf', 'page': 53}, {'source': 'data\\\\Oncology.pdf', 'page': 53}, {'source': 'data\\\\Oncology.pdf', 'page': 54}, {'source': 'data\\\\Oncology.pdf', 'page': 54}, {'source': 'data\\\\Oncology.pdf', 'page': 55}, {'source': 'data\\\\Oncology.pdf', 'page': 55}, {'source': 'data\\\\Oncology.pdf', 'page': 56}, {'source': 'data\\\\Oncology.pdf', 'page': 56}, {'source': 'data\\\\Oncology.pdf', 'page': 56}, {'source': 'data\\\\Oncology.pdf', 'page': 57}, {'source': 'data\\\\Oncology.pdf', 'page': 57}, {'source': 'data\\\\Oncology.pdf', 'page': 58}, {'source': 'data\\\\Oncology.pdf', 'page': 58}, {'source': 'data\\\\Oncology.pdf', 'page': 58}, {'source': 'data\\\\Oncology.pdf', 'page': 59}, {'source': 'data\\\\Oncology.pdf', 'page': 60}, {'source': 'data\\\\Oncology.pdf', 'page': 60}, {'source': 'data\\\\Oncology.pdf', 'page': 60}, {'source': 'data\\\\Oncology.pdf', 'page': 61}, {'source': 'data\\\\Oncology.pdf', 'page': 61}, {'source': 'data\\\\Oncology.pdf', 'page': 62}, {'source': 'data\\\\Oncology.pdf', 'page': 62}, {'source': 'data\\\\Oncology.pdf', 'page': 62}, {'source': 'data\\\\Oncology.pdf', 'page': 63}, {'source': 'data\\\\Oncology.pdf', 'page': 63}, {'source': 'data\\\\Oncology.pdf', 'page': 63}, {'source': 'data\\\\Oncology.pdf', 'page': 64}, {'source': 'data\\\\Oncology.pdf', 'page': 65}, {'source': 'data\\\\Oncology.pdf', 'page': 65}, {'source': 'data\\\\Oncology.pdf', 'page': 65}, {'source': 'data\\\\Oncology.pdf', 'page': 65}, {'source': 'data\\\\Oncology.pdf', 'page': 66}, {'source': 'data\\\\Oncology.pdf', 'page': 66}, {'source': 'data\\\\Oncology.pdf', 'page': 67}, {'source': 'data\\\\Oncology.pdf', 'page': 67}, {'source': 'data\\\\Oncology.pdf', 'page': 68}, {'source': 'data\\\\Oncology.pdf', 'page': 68}, {'source': 'data\\\\Oncology.pdf', 'page': 69}, {'source': 'data\\\\Oncology.pdf', 'page': 69}, {'source': 'data\\\\Oncology.pdf', 'page': 70}, {'source': 'data\\\\Oncology.pdf', 'page': 70}, {'source': 'data\\\\Oncology.pdf', 'page': 70}, {'source': 'data\\\\Oncology.pdf', 'page': 71}, {'source': 'data\\\\Oncology.pdf', 'page': 71}, {'source': 'data\\\\Oncology.pdf', 'page': 72}, {'source': 'data\\\\Oncology.pdf', 'page': 72}, {'source': 'data\\\\Oncology.pdf', 'page': 72}, {'source': 'data\\\\Oncology.pdf', 'page': 73}, {'source': 'data\\\\Oncology.pdf', 'page': 73}, {'source': 'data\\\\Oncology.pdf', 'page': 74}, {'source': 'data\\\\Oncology.pdf', 'page': 75}, {'source': 'data\\\\Oncology.pdf', 'page': 75}, {'source': 'data\\\\Oncology.pdf', 'page': 76}, {'source': 'data\\\\Oncology.pdf', 'page': 76}, {'source': 'data\\\\Oncology.pdf', 'page': 77}, {'source': 'data\\\\Oncology.pdf', 'page': 77}, {'source': 'data\\\\Oncology.pdf', 'page': 78}, {'source': 'data\\\\Oncology.pdf', 'page': 78}, {'source': 'data\\\\Oncology.pdf', 'page': 79}, {'source': 'data\\\\Oncology.pdf', 'page': 79}, {'source': 'data\\\\Oncology.pdf', 'page': 80}, {'source': 'data\\\\Oncology.pdf', 'page': 80}, {'source': 'data\\\\Oncology.pdf', 'page': 81}, {'source': 'data\\\\Oncology.pdf', 'page': 81}, {'source': 'data\\\\Oncology.pdf', 'page': 81}, {'source': 'data\\\\Oncology.pdf', 'page': 82}, {'source': 'data\\\\Oncology.pdf', 'page': 82}, {'source': 'data\\\\Oncology.pdf', 'page': 83}, {'source': 'data\\\\Oncology.pdf', 'page': 83}, {'source': 'data\\\\Oncology.pdf', 'page': 84}, {'source': 'data\\\\Oncology.pdf', 'page': 84}, {'source': 'data\\\\Oncology.pdf', 'page': 84}, {'source': 'data\\\\Oncology.pdf', 'page': 85}, {'source': 'data\\\\Oncology.pdf', 'page': 85}, {'source': 'data\\\\Oncology.pdf', 'page': 85}, {'source': 'data\\\\Oncology.pdf', 'page': 86}, {'source': 'data\\\\Oncology.pdf', 'page': 87}, {'source': 'data\\\\Oncology.pdf', 'page': 87}, {'source': 'data\\\\Oncology.pdf', 'page': 88}, {'source': 'data\\\\Oncology.pdf', 'page': 88}, {'source': 'data\\\\Oncology.pdf', 'page': 89}, {'source': 'data\\\\Oncology.pdf', 'page': 89}, {'source': 'data\\\\Oncology.pdf', 'page': 90}, {'source': 'data\\\\Oncology.pdf', 'page': 90}, {'source': 'data\\\\Oncology.pdf', 'page': 91}, {'source': 'data\\\\Oncology.pdf', 'page': 91}, {'source': 'data\\\\Oncology.pdf', 'page': 91}, {'source': 'data\\\\Oncology.pdf', 'page': 92}, {'source': 'data\\\\Oncology.pdf', 'page': 92}, {'source': 'data\\\\Oncology.pdf', 'page': 93}, {'source': 'data\\\\Oncology.pdf', 'page': 93}, {'source': 'data\\\\Oncology.pdf', 'page': 94}, {'source': 'data\\\\Oncology.pdf', 'page': 94}, {'source': 'data\\\\Oncology.pdf', 'page': 95}, {'source': 'data\\\\Oncology.pdf', 'page': 95}, {'source': 'data\\\\Oncology.pdf', 'page': 96}, {'source': 'data\\\\Oncology.pdf', 'page': 97}, {'source': 'data\\\\Oncology.pdf', 'page': 97}, {'source': 'data\\\\Oncology.pdf', 'page': 98}, {'source': 'data\\\\Oncology.pdf', 'page': 98}, {'source': 'data\\\\Oncology.pdf', 'page': 99}, {'source': 'data\\\\Oncology.pdf', 'page': 99}, {'source': 'data\\\\Oncology.pdf', 'page': 100}, {'source': 'data\\\\Oncology.pdf', 'page': 100}, {'source': 'data\\\\Oncology.pdf', 'page': 100}, {'source': 'data\\\\Oncology.pdf', 'page': 101}, {'source': 'data\\\\Oncology.pdf', 'page': 101}, {'source': 'data\\\\Oncology.pdf', 'page': 101}, {'source': 'data\\\\Oncology.pdf', 'page': 102}, {'source': 'data\\\\Oncology.pdf', 'page': 102}, {'source': 'data\\\\Oncology.pdf', 'page': 103}, {'source': 'data\\\\Oncology.pdf', 'page': 103}, {'source': 'data\\\\Oncology.pdf', 'page': 103}, {'source': 'data\\\\Oncology.pdf', 'page': 104}, {'source': 'data\\\\Oncology.pdf', 'page': 104}, {'source': 'data\\\\Oncology.pdf', 'page': 105}, {'source': 'data\\\\Oncology.pdf', 'page': 105}, {'source': 'data\\\\Oncology.pdf', 'page': 105}, {'source': 'data\\\\Oncology.pdf', 'page': 106}, {'source': 'data\\\\Oncology.pdf', 'page': 106}, {'source': 'data\\\\Oncology.pdf', 'page': 107}, {'source': 'data\\\\Oncology.pdf', 'page': 108}, {'source': 'data\\\\Oncology.pdf', 'page': 108}, {'source': 'data\\\\Oncology.pdf', 'page': 109}, {'source': 'data\\\\Oncology.pdf', 'page': 109}, {'source': 'data\\\\Oncology.pdf', 'page': 110}, {'source': 'data\\\\Oncology.pdf', 'page': 110}, {'source': 'data\\\\Oncology.pdf', 'page': 111}, {'source': 'data\\\\Oncology.pdf', 'page': 111}, {'source': 'data\\\\Oncology.pdf', 'page': 112}, {'source': 'data\\\\Oncology.pdf', 'page': 112}, {'source': 'data\\\\Oncology.pdf', 'page': 113}, {'source': 'data\\\\Oncology.pdf', 'page': 113}, {'source': 'data\\\\Oncology.pdf', 'page': 113}, {'source': 'data\\\\Oncology.pdf', 'page': 114}, {'source': 'data\\\\Oncology.pdf', 'page': 114}, {'source': 'data\\\\Oncology.pdf', 'page': 114}, {'source': 'data\\\\Oncology.pdf', 'page': 115}, {'source': 'data\\\\Oncology.pdf', 'page': 115}, {'source': 'data\\\\Oncology.pdf', 'page': 115}, {'source': 'data\\\\Oncology.pdf', 'page': 116}, {'source': 'data\\\\Oncology.pdf', 'page': 117}, {'source': 'data\\\\Oncology.pdf', 'page': 117}, {'source': 'data\\\\Oncology.pdf', 'page': 117}, {'source': 'data\\\\Oncology.pdf', 'page': 118}, {'source': 'data\\\\Oncology.pdf', 'page': 118}, {'source': 'data\\\\Oncology.pdf', 'page': 119}, {'source': 'data\\\\Oncology.pdf', 'page': 119}, {'source': 'data\\\\Oncology.pdf', 'page': 120}, {'source': 'data\\\\Oncology.pdf', 'page': 120}, {'source': 'data\\\\Oncology.pdf', 'page': 121}, {'source': 'data\\\\Oncology.pdf', 'page': 121}, {'source': 'data\\\\Oncology.pdf', 'page': 122}, {'source': 'data\\\\Oncology.pdf', 'page': 122}, {'source': 'data\\\\Oncology.pdf', 'page': 123}, {'source': 'data\\\\Oncology.pdf', 'page': 123}, {'source': 'data\\\\Oncology.pdf', 'page': 124}, {'source': 'data\\\\Oncology.pdf', 'page': 124}, {'source': 'data\\\\Oncology.pdf', 'page': 125}, {'source': 'data\\\\Oncology.pdf', 'page': 125}, {'source': 'data\\\\Oncology.pdf', 'page': 125}, {'source': 'data\\\\Oncology.pdf', 'page': 126}, {'source': 'data\\\\Oncology.pdf', 'page': 126}, {'source': 'data\\\\Oncology.pdf', 'page': 127}, {'source': 'data\\\\Oncology.pdf', 'page': 127}, {'source': 'data\\\\Oncology.pdf', 'page': 128}, {'source': 'data\\\\Oncology.pdf', 'page': 129}, {'source': 'data\\\\Oncology.pdf', 'page': 129}, {'source': 'data\\\\Oncology.pdf', 'page': 129}, {'source': 'data\\\\Oncology.pdf', 'page': 129}, {'source': 'data\\\\Oncology.pdf', 'page': 130}, {'source': 'data\\\\Oncology.pdf', 'page': 130}, {'source': 'data\\\\Oncology.pdf', 'page': 130}, {'source': 'data\\\\Oncology.pdf', 'page': 130}, {'source': 'data\\\\Oncology.pdf', 'page': 130}, {'source': 'data\\\\Oncology.pdf', 'page': 131}, {'source': 'data\\\\Oncology.pdf', 'page': 131}, {'source': 'data\\\\Oncology.pdf', 'page': 131}, {'source': 'data\\\\Oncology.pdf', 'page': 131}, {'source': 'data\\\\Oncology.pdf', 'page': 131}, {'source': 'data\\\\Oncology.pdf', 'page': 132}, {'source': 'data\\\\Oncology.pdf', 'page': 132}, {'source': 'data\\\\Oncology.pdf', 'page': 132}, {'source': 'data\\\\Oncology.pdf', 'page': 132}, {'source': 'data\\\\Oncology.pdf', 'page': 132}, {'source': 'data\\\\Oncology.pdf', 'page': 133}, {'source': 'data\\\\Oncology.pdf', 'page': 133}, {'source': 'data\\\\Oncology.pdf', 'page': 133}, {'source': 'data\\\\Oncology.pdf', 'page': 133}, {'source': 'data\\\\Oncology.pdf', 'page': 133}, {'source': 'data\\\\Oncology.pdf', 'page': 134}, {'source': 'data\\\\Oncology.pdf', 'page': 134}, {'source': 'data\\\\Oncology.pdf', 'page': 134}, {'source': 'data\\\\Oncology.pdf', 'page': 134}, {'source': 'data\\\\Oncology.pdf', 'page': 135}, {'source': 'data\\\\Oncology.pdf', 'page': 135}, {'source': 'data\\\\Oncology.pdf', 'page': 135}, {'source': 'data\\\\Oncology.pdf', 'page': 135}, {'source': 'data\\\\Oncology.pdf', 'page': 135}, {'source': 'data\\\\Oncology.pdf', 'page': 136}, {'source': 'data\\\\Oncology.pdf', 'page': 136}, {'source': 'data\\\\Oncology.pdf', 'page': 136}, {'source': 'data\\\\Oncology.pdf', 'page': 136}, {'source': 'data\\\\Oncology.pdf', 'page': 137}, {'source': 'data\\\\Oncology.pdf', 'page': 137}, {'source': 'data\\\\Oncology.pdf', 'page': 137}, {'source': 'data\\\\Oncology.pdf', 'page': 137}, {'source': 'data\\\\Oncology.pdf', 'page': 138}, {'source': 'data\\\\Oncology.pdf', 'page': 138}, {'source': 'data\\\\Oncology.pdf', 'page': 138}, {'source': 'data\\\\Oncology.pdf', 'page': 138}, {'source': 'data\\\\Oncology.pdf', 'page': 139}, {'source': 'data\\\\Oncology.pdf', 'page': 139}, {'source': 'data\\\\Oncology.pdf', 'page': 139}, {'source': 'data\\\\Oncology.pdf', 'page': 139}, {'source': 'data\\\\Oncology.pdf', 'page': 140}, {'source': 'data\\\\Oncology.pdf', 'page': 140}, {'source': 'data\\\\Oncology.pdf', 'page': 140}, {'source': 'data\\\\Oncology.pdf', 'page': 140}, {'source': 'data\\\\Oncology.pdf', 'page': 141}, {'source': 'data\\\\Oncology.pdf', 'page': 141}, {'source': 'data\\\\Oncology.pdf', 'page': 141}, {'source': 'data\\\\Oncology.pdf', 'page': 141}, {'source': 'data\\\\Oncology.pdf', 'page': 141}, {'source': 'data\\\\Oncology.pdf', 'page': 142}, {'source': 'data\\\\Oncology.pdf', 'page': 142}, {'source': 'data\\\\Oncology.pdf', 'page': 142}, {'source': 'data\\\\Oncology.pdf', 'page': 142}, {'source': 'data\\\\Oncology.pdf', 'page': 142}, {'source': 'data\\\\Oncology.pdf', 'page': 143}, {'source': 'data\\\\Oncology.pdf', 'page': 143}, {'source': 'data\\\\Oncology.pdf', 'page': 143}, {'source': 'data\\\\Oncology.pdf', 'page': 143}, {'source': 'data\\\\Oncology.pdf', 'page': 144}, {'source': 'data\\\\Oncology.pdf', 'page': 145}, {'source': 'data\\\\Oncology.pdf', 'page': 146}, {'source': 'data\\\\Oncology.pdf', 'page': 147}, {'source': 'data\\\\Oncology.pdf', 'page': 148}]\n",
      "data\\Oncology.pdf processing is done\n",
      "Document successfully indexed.\n"
     ]
    }
   ],
   "source": [
    "if __name__ == \"__main__\":\n",
    "    directory_path = \"data\"  # Replace with your directory path\n",
    "    process_pdfs_in_directory(directory_path)"
   ]
  },
  {
   "cell_type": "code",
   "execution_count": null,
   "metadata": {},
   "outputs": [],
   "source": []
  },
  {
   "cell_type": "code",
   "execution_count": null,
   "metadata": {},
   "outputs": [],
   "source": []
  },
  {
   "cell_type": "code",
   "execution_count": null,
   "metadata": {},
   "outputs": [],
   "source": []
  }
 ],
 "metadata": {
  "kernelspec": {
   "display_name": "myenv",
   "language": "python",
   "name": "python3"
  },
  "language_info": {
   "codemirror_mode": {
    "name": "ipython",
    "version": 3
   },
   "file_extension": ".py",
   "mimetype": "text/x-python",
   "name": "python",
   "nbconvert_exporter": "python",
   "pygments_lexer": "ipython3",
   "version": "3.11.4"
  }
 },
 "nbformat": 4,
 "nbformat_minor": 2
}
